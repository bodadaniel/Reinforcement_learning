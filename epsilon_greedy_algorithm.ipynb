{
  "nbformat": 4,
  "nbformat_minor": 0,
  "metadata": {
    "colab": {
      "provenance": [],
      "toc_visible": true,
      "authorship_tag": "ABX9TyMCTc/0P8czeX7hEmXDOShw",
      "include_colab_link": true
    },
    "kernelspec": {
      "name": "python3",
      "display_name": "Python 3"
    },
    "language_info": {
      "name": "python"
    }
  },
  "cells": [
    {
      "cell_type": "markdown",
      "metadata": {
        "id": "view-in-github",
        "colab_type": "text"
      },
      "source": [
        "<a href=\"https://colab.research.google.com/github/bodadaniel/Reinforcement_learning/blob/main/epsilon_greedy_algorithm.ipynb\" target=\"_parent\"><img src=\"https://colab.research.google.com/assets/colab-badge.svg\" alt=\"Open In Colab\"/></a>"
      ]
    },
    {
      "cell_type": "markdown",
      "source": [
        "#ϵ-greedy algorithm"
      ],
      "metadata": {
        "id": "Zo-EbUYa_6EY"
      }
    },
    {
      "cell_type": "markdown",
      "source": [
        "##Import packages"
      ],
      "metadata": {
        "id": "rj6tekn1_5XV"
      }
    },
    {
      "cell_type": "code",
      "execution_count": 2,
      "metadata": {
        "id": "gmxcCYJD-JXR"
      },
      "outputs": [],
      "source": [
        "import numpy as np\n",
        "import randomgit\n",
        "import matplotlib.pyplot as plt\n",
        "%matplotlib inline\n",
        "np.random.seed(123)"
      ]
    },
    {
      "cell_type": "markdown",
      "source": [
        "##Parameters"
      ],
      "metadata": {
        "id": "rfhQ6JGk-ibN"
      }
    },
    {
      "cell_type": "code",
      "source": [
        "n = 10 # n-armed bandit\n",
        "eps = 0.1 # = P(exploration) = 1 - P(exploitation)"
      ],
      "metadata": {
        "id": "QQ8Dojl1-TJL"
      },
      "execution_count": 3,
      "outputs": []
    },
    {
      "cell_type": "code",
      "source": [
        "arms = np.random.rand(n)\n",
        "arms # if P(X < x) then the response is favourable"
      ],
      "metadata": {
        "colab": {
          "base_uri": "https://localhost:8080/"
        },
        "id": "slCiIyfg-TNW",
        "outputId": "5fa89fc4-f003-4184-c664-1c62c0ba4449"
      },
      "execution_count": 4,
      "outputs": [
        {
          "output_type": "execute_result",
          "data": {
            "text/plain": [
              "array([0.69646919, 0.28613933, 0.22685145, 0.55131477, 0.71946897,\n",
              "       0.42310646, 0.9807642 , 0.68482974, 0.4809319 , 0.39211752])"
            ]
          },
          "metadata": {},
          "execution_count": 4
        }
      ]
    },
    {
      "cell_type": "markdown",
      "source": [
        "##Functions"
      ],
      "metadata": {
        "id": "HVMiteICAIrc"
      }
    },
    {
      "cell_type": "code",
      "source": [
        "def reward(p):\n",
        "  \"\"\"Reward function with 10 trial\"\"\"\n",
        "  return sum(np.random.rand(10) < p )\n",
        "\n",
        "reward(0.1)"
      ],
      "metadata": {
        "colab": {
          "base_uri": "https://localhost:8080/"
        },
        "id": "faHickKi-TQZ",
        "outputId": "46e024c9-4a15-4141-9509-09bcc75c7e4e"
      },
      "execution_count": 6,
      "outputs": [
        {
          "output_type": "execute_result",
          "data": {
            "text/plain": [
              "0"
            ]
          },
          "metadata": {},
          "execution_count": 6
        }
      ]
    },
    {
      "cell_type": "code",
      "source": [
        "#For a start\n",
        "av = np.array([np.random.randint(0,(n)), 0]).reshape(1,2) #av = action-value matrix"
      ],
      "metadata": {
        "id": "2cqVi7dO-TTH"
      },
      "execution_count": 7,
      "outputs": []
    },
    {
      "cell_type": "code",
      "source": [
        "def LuckiestArm(av):\n",
        "  \"\"\"Gives back the luckiest arm over all previous iteration with 10 trials each\"\"\"\n",
        "  summary = np.array([ [i_av[0], np.mean(av[(av[:, 0] == i_av[0]), 1])] for i_av in av ])\n",
        "  return int(summary[np.argmax(summary, axis = 0)[1], 0])\n",
        "\n",
        "LuckiestArm(av)"
      ],
      "metadata": {
        "colab": {
          "base_uri": "https://localhost:8080/"
        },
        "id": "WWgYOp_k-TVo",
        "outputId": "422978b9-1e57-4879-a128-e326cb6b9bd8"
      },
      "execution_count": 8,
      "outputs": [
        {
          "output_type": "execute_result",
          "data": {
            "text/plain": [
              "5"
            ]
          },
          "metadata": {},
          "execution_count": 8
        }
      ]
    },
    {
      "cell_type": "markdown",
      "source": [
        "##Simulation"
      ],
      "metadata": {
        "id": "VmwyScAQAL_B"
      }
    },
    {
      "cell_type": "code",
      "source": [
        "def Gaming(n_iter, eps):\n",
        "    \"\"\"Invoke\"\"\"\n",
        "    av = np.array([np.random.randint(0,(n)), 0]).reshape(1,2)\n",
        "    mean_n = []\n",
        "    exploation = 0\n",
        "    exploration = 0\n",
        "    for i in range(n_iter):\n",
        "      if np.random.rand(1) > eps: #exploation\n",
        "        choice = LuckiestArm(av)\n",
        "        i_av = np.array([[choice, reward(arms[choice])]])\n",
        "        av = np.concatenate([av, i_av], axis = 0)\n",
        "        exploation += 1\n",
        "      else: #exploration\n",
        "        choice = np.argmax(arms == np.random.choice(arms))\n",
        "        i_av = np.array([[choice, reward(arms[choice])]])\n",
        "        av = np.concatenate([av, i_av], axis = 0)\n",
        "        exploration += 1\n",
        "      mean_n.append(np.mean(av[:,1]))\n",
        "    return av, mean_n, [exploation, exploration]\n",
        "\n",
        "av, m, e = Gaming(500, eps)"
      ],
      "metadata": {
        "id": "auYzncD2_Ew6"
      },
      "execution_count": 9,
      "outputs": []
    },
    {
      "cell_type": "markdown",
      "source": [
        "##Plotting"
      ],
      "metadata": {
        "id": "X5zfhIiWAOGG"
      }
    },
    {
      "cell_type": "code",
      "source": [
        "def plotting(m, e, av, arms):\n",
        "  \"\"\"1th: Avg. reward per game, 2nd: # action type, 3rd: num. pull on arm i\"\"\"\n",
        "  unique, counts = np.unique(av[:, 0], return_counts=True)\n",
        "  av_dict = dict(zip(unique + 1, counts))\n",
        "  fig, ax = plt.subplots(1, 3, figsize=(15, 5))\n",
        "  fig.suptitle(\"Eps-greedy learning strategy\", fontsize=14)\n",
        "  ax[0].scatter(np.arange(0, len(m)), m)\n",
        "  ax[0].set_xlabel('# Game')\n",
        "  ax[0].set_ylabel('Avg. reward')\n",
        "  ax[1].bar(['exploation', 'exploration'], e)\n",
        "  ax[1].set_ylabel('# Game')\n",
        "  ax[2].bar(av_dict.keys(), av_dict.values())\n",
        "  ax[2].set_xticks(np.arange(1, len(arms) + 1))\n",
        "  ax[2].set_ylabel('# Game')\n",
        "  ax[2].set_xlabel('Arm')\n",
        "  for x, y, s in zip(av_dict.keys(), av_dict.values(), np.round(arms, 2)):\n",
        "          plt.text(x, y, s,  horizontalalignment='center', rotation = 'horizontal' );\n",
        "\n",
        "plotting(m, e, av, arms)"
      ],
      "metadata": {
        "colab": {
          "base_uri": "https://localhost:8080/",
          "height": 515
        },
        "id": "HWWY9sE__E0H",
        "outputId": "1f047583-7ef3-4c5b-cc7f-e7adbd45b025"
      },
      "execution_count": 23,
      "outputs": [
        {
          "output_type": "display_data",
          "data": {
            "text/plain": [
              "<Figure size 1500x500 with 3 Axes>"
            ],
            "image/png": "[encoded data removed]"
          },
          "metadata": {}
        }
      ]
    }
  ]
}